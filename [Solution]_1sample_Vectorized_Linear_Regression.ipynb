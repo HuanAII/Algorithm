{
  "nbformat": 4,
  "nbformat_minor": 0,
  "metadata": {
    "colab": {
      "provenance": [],
      "include_colab_link": true
    },
    "kernelspec": {
      "name": "python3",
      "display_name": "Python 3"
    },
    "language_info": {
      "name": "python"
    }
  },
  "cells": [
    {
      "cell_type": "markdown",
      "metadata": {
        "id": "view-in-github",
        "colab_type": "text"
      },
      "source": [
        "<a href=\"https://colab.research.google.com/github/HuanAII/Algorithm/blob/main/%5BSolution%5D_1sample_Vectorized_Linear_Regression.ipynb\" target=\"_parent\"><img src=\"https://colab.research.google.com/assets/colab-badge.svg\" alt=\"Open In Colab\"/></a>"
      ]
    },
    {
      "cell_type": "code",
      "execution_count": null,
      "metadata": {
        "colab": {
          "base_uri": "https://localhost:8080/"
        },
        "id": "XYH7FUF5heOl",
        "outputId": "fd8cd4e0-c0c8-4dc3-c3fe-4991b2a66f75"
      },
      "outputs": [
        {
          "output_type": "stream",
          "name": "stdout",
          "text": [
            "Input shape: (4, 3)\n",
            "Output shape: (4,)\n",
            "Theta shape: (3,)\n"
          ]
        }
      ],
      "source": [
        "import numpy as np\n",
        "import matplotlib.pyplot as plt\n",
        "\n",
        "# Experience và Education\n",
        "X = np.array([[3, 12], [4, 13], [5, 14], [6, 15]])\n",
        "\n",
        "# Thêm cột bias\n",
        "X_bias = np.c_[np.ones(X.shape[0]), X]\n",
        "\n",
        "# Salary thực tế\n",
        "y = np.array([60, 55, 66, 93])\n",
        "\n",
        "# [b, w1, w2] - khởi tạo tham số\n",
        "theta = np.array([10, 3, 2])\n",
        "\n",
        "print(f'Input shape: {X_bias.shape}')\n",
        "print(f'Output shape: {y.shape}')\n",
        "print(f'Theta shape: {theta.shape}')"
      ]
    },
    {
      "cell_type": "code",
      "source": [
        "def predict(X, theta):\n",
        "    return X.dot(theta)\n",
        "\n",
        "def compute_loss(y_hat, y):\n",
        "\n",
        "    return (y_hat - y) ** 2\n",
        "\n",
        "def compute_gradient(y_hat, y, X):\n",
        "\n",
        "    return 2 * X * (y_hat - y)\n",
        "\n",
        "def update_gradient(theta, gradient, lr):\n",
        "    theta = theta - lr * gradient\n",
        "\n",
        "    return theta"
      ],
      "metadata": {
        "id": "-ILh96kAP23N"
      },
      "execution_count": null,
      "outputs": []
    },
    {
      "cell_type": "code",
      "source": [
        "# Before training prediction\n",
        "X_test = np.array([[1, 4, 13]])\n",
        "y_hat = predict(X_test, theta)\n",
        "loss = compute_loss(y_hat, y)\n",
        "print(f'Loss before training: {loss}')"
      ],
      "metadata": {
        "colab": {
          "base_uri": "https://localhost:8080/"
        },
        "id": "ol9x7l6mRdPW",
        "outputId": "89159a69-0853-42af-a503-0983d0093841"
      },
      "execution_count": null,
      "outputs": [
        {
          "output_type": "stream",
          "name": "stdout",
          "text": [
            "Loss before training: [ 144   49  324 2025]\n"
          ]
        }
      ]
    },
    {
      "cell_type": "code",
      "source": [
        "epoch_max = 4\n",
        "lr = 0.001  # Learning rate\n",
        "N = len(y)\n",
        "losses = []\n",
        "\n",
        "for epoch in range(epoch_max):\n",
        "    epoch_losses = []\n",
        "    for idx in range(N):\n",
        "        # Lấy mẫu dữ liệu thứ idx\n",
        "        X_i = X_bias[idx, :]\n",
        "        y_i = y[idx]\n",
        "\n",
        "        # Dự đoán giá trị\n",
        "        y_hat = predict(X_i, theta)\n",
        "\n",
        "        # Tính Loss (MSE) - Chia cho N\n",
        "        loss = compute_loss(y_hat, y_i)\n",
        "        epoch_losses.append(loss)\n",
        "\n",
        "        # Tính gradient\n",
        "        gradient = compute_gradient(y_hat, y_i, X_i)\n",
        "\n",
        "        # Cập nhật tham số\n",
        "        theta = update_gradient(theta, gradient, lr):\n",
        "\n",
        "    epoch_loss = sum(epoch_losses) / len(epoch_losses)\n",
        "    losses.append(epoch_loss)\n",
        "    print(f'Epoch {epoch+1}: Loss = {epoch_loss}, theta = {theta}')\n",
        "\n",
        "final_theta = theta\n",
        "losses, final_theta"
      ],
      "metadata": {
        "id": "UAiuckjqnDTK",
        "colab": {
          "base_uri": "https://localhost:8080/"
        },
        "outputId": "c537c614-08fb-450d-86e8-1bac162ec879"
      },
      "execution_count": null,
      "outputs": [
        {
          "output_type": "stream",
          "name": "stdout",
          "text": [
            "Epoch 1: Loss = 416.95205558961186, theta = [10.05519221  3.35836494  2.85509481]\n",
            "Epoch 2: Loss = 304.7361762348305, theta = [10.05329724  3.45983758  2.93951274]\n",
            "Epoch 3: Loss = 300.16349568414597, theta = [10.04440803  3.52983613  2.9295084 ]\n",
            "Epoch 4: Loss = 300.6839524879136, theta = [10.03466189  3.59597853  2.90793558]\n"
          ]
        },
        {
          "output_type": "execute_result",
          "data": {
            "text/plain": [
              "([416.95205558961186,\n",
              "  304.7361762348305,\n",
              "  300.16349568414597,\n",
              "  300.6839524879136],\n",
              " array([10.03466189,  3.59597853,  2.90793558]))"
            ]
          },
          "metadata": {},
          "execution_count": 10
        }
      ]
    },
    {
      "cell_type": "code",
      "source": [
        "# After training prediction\n",
        "X_test = np.array([[1, 4, 13]])\n",
        "y_hat = predict(X_test, theta)\n",
        "loss = compute_loss(y_hat, y)\n",
        "print(f'Loss after training: {loss}')"
      ],
      "metadata": {
        "colab": {
          "base_uri": "https://localhost:8080/"
        },
        "id": "RSCKxrBcR6DH",
        "outputId": "260f8fbd-4459-4e84-8aba-5461e6fde37d"
      },
      "execution_count": null,
      "outputs": [
        {
          "output_type": "stream",
          "name": "stdout",
          "text": [
            "Loss after training: [  4.93612214  52.15350754  14.27525966 947.30137851]\n"
          ]
        }
      ]
    },
    {
      "cell_type": "code",
      "source": [
        "plt.plot(losses)\n",
        "plt.title('Loss over epoch')\n",
        "plt.xlabel('Epoch')\n",
        "plt.ylabel('Loss')\n",
        "plt.show()"
      ],
      "metadata": {
        "colab": {
          "base_uri": "https://localhost:8080/",
          "height": 472
        },
        "id": "T8DdUOoVS4rj",
        "outputId": "d9d46a69-2e7d-4b9e-bb84-246fb8f7ff11"
      },
      "execution_count": null,
      "outputs": [
        {
          "output_type": "display_data",
          "data": {
            "text/plain": [
              "<Figure size 640x480 with 1 Axes>"
            ],
            "image/png": "[encoded data removed]"
          },
          "metadata": {}
        }
      ]
    }
  ]
}